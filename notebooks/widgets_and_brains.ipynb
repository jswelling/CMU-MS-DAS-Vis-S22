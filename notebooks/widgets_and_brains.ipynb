{
 "cells": [
  {
   "cell_type": "code",
   "execution_count": null,
   "id": "97f96b8b-8d34-4a50-ad8f-4888cc3546b4",
   "metadata": {},
   "outputs": [],
   "source": [
    "%matplotlib widget\n",
    "import numpy as np\n",
    "import matplotlib.pyplot as plt\n",
    "import ipywidgets as widgets"
   ]
  },
  {
   "cell_type": "markdown",
   "id": "e12efd70",
   "metadata": {},
   "source": [
    "## Load the dataset.\n",
    "You'll need to customize the file location, of course."
   ]
  },
  {
   "cell_type": "code",
   "execution_count": null,
   "id": "74dc95c7-d658-424d-9397-de3cb67fc2ec",
   "metadata": {
    "tags": []
   },
   "outputs": [],
   "source": [
    "colin_icbm = np.fromfile('/home/welling/git/CMU-MS-DAS-Vis-S22/data/colin27_icbm_181_217_181.bytes', dtype=np.uint8)\n",
    "\n",
    "colin_icbm = np.reshape(colin_icbm, (181, 217, 181), order='F')"
   ]
  },
  {
   "cell_type": "markdown",
   "id": "a2ed548c",
   "metadata": {},
   "source": [
    "## Mark the right side of the data\n",
    "\n",
    "Front and back, top and bottom are obvious, but left and right can be confusing.  Let's make a visible mark.  By the \"radiological convention\", low first index (low X coordinate) corresponds to the patient's right side."
   ]
  },
  {
   "cell_type": "code",
   "execution_count": null,
   "id": "dcc6a315",
   "metadata": {},
   "outputs": [],
   "source": [
    "colin_icbm_marked = colin_icbm.copy()\n",
    "colin_icbm_marked[5,:,:] = 200  # insert a plane of high values at low first index"
   ]
  },
  {
   "cell_type": "markdown",
   "id": "5ffe4a1c",
   "metadata": {},
   "source": [
    "## Draw a simple contour plot"
   ]
  },
  {
   "cell_type": "code",
   "execution_count": null,
   "id": "d6c7f924-d667-43b5-b19a-3f4145db07d4",
   "metadata": {},
   "outputs": [],
   "source": [
    "x = np.arange(0.0, colin_icbm_marked.shape[0], 1)\n",
    "y = np.arange(0.0, colin_icbm_marked.shape[1], 1)\n",
    "X, Y = np.meshgrid(x, y, indexing='ij')\n",
    "print(colin_icbm_marked.shape)\n",
    "print(X.shape)\n",
    "print(Y.shape)"
   ]
  },
  {
   "cell_type": "code",
   "execution_count": null,
   "id": "4fc7e809-8df7-468a-9be7-bfe23f7d44d7",
   "metadata": {},
   "outputs": [],
   "source": [
    "fig, ax = plt.subplots()\n",
    "countours = ax.contour(X, Y, colin_icbm_marked[:,:,50])\n"
   ]
  },
  {
   "cell_type": "markdown",
   "id": "1e914a90",
   "metadata": {},
   "source": [
    "See the marker plane above, at low X?\n",
    "\n",
    "## Create a function to draw the slice.\n",
    "Now we start building some code complexity.  The first thing we want to fix is the aspect ratio of the figure."
   ]
  },
  {
   "cell_type": "code",
   "execution_count": null,
   "id": "9ce4a23b-19d6-4088-b602-bf173f0f1b6a",
   "metadata": {},
   "outputs": [],
   "source": [
    "def draw_slice(slice_num):\n",
    "    fig, ax = plt.subplots()\n",
    "    contours = ax.contour(X, Y, colin_icbm_marked[:,:,slice_num])\n",
    "    ax.set_title(f'slice {slice_num}')\n",
    "    # set the aspect ratio\n",
    "    ratio = colin_icbm_marked.shape[1]/colin_icbm_marked.shape[0]\n",
    "    x_left, x_right = ax.get_xlim()\n",
    "    y_low, y_high = ax.get_ylim()\n",
    "    ax.set_aspect(abs((x_right - x_left)/(y_low - y_high))*ratio)\n",
    "                  \n",
    "    \n",
    "    "
   ]
  },
  {
   "cell_type": "code",
   "execution_count": null,
   "id": "b3f75aaf-61f5-4489-b728-dcc06c497adc",
   "metadata": {},
   "outputs": [],
   "source": [
    "draw_slice(50)\n"
   ]
  },
  {
   "cell_type": "markdown",
   "id": "aa6bc770",
   "metadata": {},
   "source": [
    "## Create a factory function.\n",
    "More complexity.  We want to be able to redraw a slice in response to requests from widgets, without\n",
    "recreating the figure or axes.  Axis.clear() removes the old contents.  (There is some discussion about whether it is sufficient to free the memory, but it does enough for this demo).\n",
    "\n",
    "We are using a 'closure' to associate the Figure and Axis with the redraw functions.\n",
    "\n",
    "Read about the use of Traitlets in ipywidgets to better understand the code in redraw_observer_func()."
   ]
  },
  {
   "cell_type": "code",
   "execution_count": null,
   "id": "8b58d0f8",
   "metadata": {},
   "outputs": [],
   "source": [
    "def create_draw_slice(vol, axis):\n",
    "    assert axis in [0, 1, 2]\n",
    "    idx0, idx1 = [(1, 2), (2, 0), (0, 1)][axis]\n",
    "    axis_name = [\"X\", \"Y\", \"Z\"][axis]\n",
    "    X, Y = np.meshgrid(np.arange(0.0, vol.shape[idx0], 1.0),\n",
    "                       np.arange(0.0, vol.shape[idx1], 1.0),\n",
    "                       indexing='ij')\n",
    "    fig, ax = plt.subplots()\n",
    "    ratio = vol.shape[idx1]/vol.shape[idx0]\n",
    "    x_left, x_right = ax.get_xlim()\n",
    "    y_low, y_high = ax.get_ylim()\n",
    "    ax.set_aspect(abs((x_right - x_left)/(y_low - y_high))*ratio)\n",
    "    def redraw_func(slice_num):\n",
    "        ax.clear()\n",
    "        ax.set_title(f\"{axis_name} slice {slice_num}\")\n",
    "        if axis == 0:\n",
    "            contours = ax.contour(X, Y, vol[slice_num,:,:])\n",
    "        elif axis == 1:\n",
    "            contours = ax.contour(X, Y, vol[:,slice_num,:].transpose())\n",
    "        else:\n",
    "            contours = ax.contour(X, Y, vol[:,:,slice_num])\n",
    "    def redraw_observer_func(slice_num_bunch):\n",
    "        \"\"\"\n",
    "        The paremeter is a 'traitlets.utils.bunch.Bunch'.  This is\n",
    "        a strange feature of the way ipywidgets are implemented.\n",
    "        \"\"\"\n",
    "        redraw_func(slice_num_bunch.new)\n",
    "    return fig, ax, redraw_func, redraw_observer_func\n"
   ]
  },
  {
   "cell_type": "markdown",
   "id": "3005bd46",
   "metadata": {},
   "source": [
    "In this next block we are seeing some distortion of the aspect ratio, despite the care we've taken.  I'm not sure why."
   ]
  },
  {
   "cell_type": "code",
   "execution_count": null,
   "id": "d8009dd4",
   "metadata": {},
   "outputs": [],
   "source": [
    "z_fig, z_ax, z_redraw_func, redraw_observer_func = create_draw_slice(colin_icbm_marked, 2)\n",
    "for i in range(10):\n",
    "    z_redraw_func(40+10*i)"
   ]
  },
  {
   "cell_type": "markdown",
   "id": "2fb48294",
   "metadata": {},
   "source": [
    "## Demonstration of ipywidgets.interact()"
   ]
  },
  {
   "cell_type": "code",
   "execution_count": null,
   "id": "ca7a1a8e",
   "metadata": {},
   "outputs": [],
   "source": [
    "z_fig, z_ax, z_redraw_func, redraw_observer_func = create_draw_slice(colin_icbm_marked, 2)\n",
    "widgets.interact(z_redraw_func,\n",
    "                 slice_num=widgets.IntSlider(value=50, min=0, max=colin_icbm_marked.shape[2]-1))\n"
   ]
  },
  {
   "cell_type": "markdown",
   "id": "80ce118c",
   "metadata": {},
   "source": [
    "## A demonstration of using widget.observe\n",
    "\n",
    "Note that the first view doesn't get drawn until we move the slider."
   ]
  },
  {
   "cell_type": "code",
   "execution_count": null,
   "id": "8a7f353e",
   "metadata": {},
   "outputs": [],
   "source": [
    "z_fig, z_ax, z_redraw_func, z_redraw_observer_func = create_draw_slice(colin_icbm_marked, 2)\n",
    "z_slice_slider = widgets.IntSlider(value=50, min=0, max=colin_icbm_marked.shape[2]-1)\n",
    "z_slice_slider.observe(z_redraw_observer_func, \"value\")\n",
    "z_slice_slider  # return the slider to cause it to be displayed"
   ]
  },
  {
   "cell_type": "markdown",
   "id": "6bba2703",
   "metadata": {},
   "source": [
    "## Now let's construct a unified display tool.\n",
    "It doesn't fit well in the notebook's display area, but you can see that it's working and that it could be rearranged."
   ]
  },
  {
   "cell_type": "code",
   "execution_count": null,
   "id": "ff263f11-8a08-4b8f-832c-fb896d175e61",
   "metadata": {},
   "outputs": [],
   "source": [
    "output_x = widgets.Output()\n",
    "with output_x:\n",
    "    x_fig, x_ax, x_redraw_func, x_redraw_observer_func = create_draw_slice(colin_icbm_marked, 0)\n",
    "output_y = widgets.Output()\n",
    "with output_y:\n",
    "    y_fig, x_ax, y_redraw_func, y_redraw_observer_func = create_draw_slice(colin_icbm_marked, 1)\n",
    "output_z = widgets.Output()\n",
    "with output_z:\n",
    "    z_fig, x_ax, z_redraw_func, z_redraw_observer_func = create_draw_slice(colin_icbm_marked, 2)\n"
   ]
  },
  {
   "cell_type": "code",
   "execution_count": null,
   "id": "25c99f4f",
   "metadata": {},
   "outputs": [],
   "source": [
    "x_slice_slider = widgets.IntSlider(value=50, min=0, max=colin_icbm_marked.shape[0]-1)\n",
    "x_slice_slider.observe(x_redraw_observer_func, \"value\")\n",
    "\n",
    "y_slice_slider = widgets.IntSlider(value=50, min=0, max=colin_icbm_marked.shape[1]-1)\n",
    "y_slice_slider.observe(y_redraw_observer_func, \"value\")\n",
    "\n",
    "z_slice_slider = widgets.IntSlider(value=50, min=0, max=colin_icbm_marked.shape[2]-1)\n",
    "z_slice_slider.observe(z_redraw_observer_func, \"value\")\n"
   ]
  },
  {
   "cell_type": "code",
   "execution_count": null,
   "id": "4d8fef80-360a-4260-a775-b2c936c7a92b",
   "metadata": {},
   "outputs": [],
   "source": [
    "widgets.HBox([widgets.VBox([x_slice_slider, y_slice_slider, z_slice_slider]),\n",
    "             output_x, output_y, output_z])"
   ]
  },
  {
   "cell_type": "code",
   "execution_count": null,
   "id": "db85578b-b9f0-47ab-9f36-87693593be76",
   "metadata": {},
   "outputs": [],
   "source": [
    " "
   ]
  }
 ],
 "metadata": {
  "kernelspec": {
   "display_name": "VisClassIPyWidgetsEnv",
   "language": "python",
   "name": "visclassipywidgetsenv"
  },
  "language_info": {
   "codemirror_mode": {
    "name": "ipython",
    "version": 3
   },
   "file_extension": ".py",
   "mimetype": "text/x-python",
   "name": "python",
   "nbconvert_exporter": "python",
   "pygments_lexer": "ipython3",
   "version": "3.8.1"
  }
 },
 "nbformat": 4,
 "nbformat_minor": 5
}
