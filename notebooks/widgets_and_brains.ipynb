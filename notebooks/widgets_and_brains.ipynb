{
 "cells": [
  {
   "cell_type": "code",
   "execution_count": null,
   "id": "97f96b8b-8d34-4a50-ad8f-4888cc3546b4",
   "metadata": {},
   "outputs": [],
   "source": [
    "import numpy as np\n",
    "import matplotlib.pyplot as plt\n",
    "import ipywidgets as widgets"
   ]
  },
  {
   "cell_type": "code",
   "execution_count": null,
   "id": "74dc95c7-d658-424d-9397-de3cb67fc2ec",
   "metadata": {
    "tags": []
   },
   "outputs": [],
   "source": [
    "colin_icbm = np.fromfile('/home/welling/git/CMU-MS-DAS-Vis-S22/data/colin27_icbm_181_217_181.bytes', dtype=np.uint8)\n",
    "\n",
    "colin_icbm = np.reshape(colin_icbm, (181, 217, 181), order='F')"
   ]
  },
  {
   "cell_type": "code",
   "execution_count": null,
   "id": "d6c7f924-d667-43b5-b19a-3f4145db07d4",
   "metadata": {},
   "outputs": [],
   "source": [
    "x = np.arange(0.0, colin_icbm.shape[0], 1)\n",
    "y = np.arange(0.0, colin_icbm.shape[1], 1)\n",
    "X, Y = np.meshgrid(x, y, indexing='ij')\n",
    "print(colin_icbm.shape)\n",
    "print(X.shape)\n",
    "print(Y.shape)"
   ]
  },
  {
   "cell_type": "code",
   "execution_count": null,
   "id": "4fc7e809-8df7-468a-9be7-bfe23f7d44d7",
   "metadata": {},
   "outputs": [],
   "source": [
    "fig, ax = plt.subplots()\n",
    "countours = ax.contour(X, Y, colin_icbm[:,:,50])\n"
   ]
  },
  {
   "cell_type": "code",
   "execution_count": null,
   "id": "9ce4a23b-19d6-4088-b602-bf173f0f1b6a",
   "metadata": {},
   "outputs": [],
   "source": [
    "def draw_slice(slice_num):\n",
    "    fig, ax = plt.subplots()\n",
    "    contours = ax.contour(X, Y, colin_icbm[:,:,slice_num])\n",
    "    ax.set_title(f'slice {slice_num}')\n",
    "    # set the aspect ratio\n",
    "    ratio = colin_icbm.shape[1]/colin_icbm.shape[0]\n",
    "    x_left, x_right = ax.get_xlim()\n",
    "    y_low, y_high = ax.get_ylim()\n",
    "    ax.set_aspect(abs((x_right - x_left)/(y_low - y_high))*ratio)\n",
    "                  \n",
    "    \n",
    "    "
   ]
  },
  {
   "cell_type": "code",
   "execution_count": null,
   "id": "b3f75aaf-61f5-4489-b728-dcc06c497adc",
   "metadata": {},
   "outputs": [],
   "source": [
    "draw_slice(50)\n"
   ]
  },
  {
   "cell_type": "code",
   "execution_count": null,
   "id": "96d9150d-65ca-469b-88b3-9e41059ae4ce",
   "metadata": {},
   "outputs": [],
   "source": [
    "def create_draw_slice(vol):\n",
    "    x = np.arange(0.0, vol.shape[0], 1)\n",
    "    y = np.arange(0.0, vol.shape[1], 1)\n",
    "    X, Y = np.meshgrid(x, y, indexing='ij')\n",
    "    def func(slice_num):\n",
    "        fig, ax = plt.subplots()\n",
    "        ax.set_title(f\"Z slice {slice_num}\")\n",
    "        contours = ax.contour(X, Y, vol[:,:, slice_num])\n",
    "        # set the aspect ratio\n",
    "        ratio = vol.shape[1]/vol.shape[0]\n",
    "        x_left, x_right = ax.get_xlim()\n",
    "        y_low, y_high = ax.get_ylim()\n",
    "        ax.set_aspect(abs((x_right - x_left)/(y_low - y_high))*ratio)\n",
    "    return func"
   ]
  },
  {
   "cell_type": "code",
   "execution_count": null,
   "id": "628e5548-8a43-42fd-8a04-2a39590e4e33",
   "metadata": {},
   "outputs": [],
   "source": [
    "thing = create_draw_slice(colin_icbm)\n",
    "thing(50)"
   ]
  },
  {
   "cell_type": "code",
   "execution_count": null,
   "id": "5dda333e-d8ac-4b8c-abeb-4b7716955167",
   "metadata": {},
   "outputs": [],
   "source": [
    "def create_draw_slice(vol, axis=2):\n",
    "    assert axis in [0, 1, 2]\n",
    "    idx0, idx1 = [(1, 2), (2, 0), (0, 1)][axis]\n",
    "    x = np.arange(0.0, vol.shape[idx0], 1)\n",
    "    y = np.arange(0.0, vol.shape[idx1], 1)\n",
    "    X, Y = np.meshgrid(x, y, indexing='ij')\n",
    "    def func(slice_num):\n",
    "        fig, ax = plt.subplots()\n",
    "        if axis == 0:\n",
    "            contours = ax.contour(X, Y, vol[slice_num,:,:])\n",
    "        elif axis == 1:\n",
    "            contours = ax.contour(X, Y, vol[:,slice_num,:].transpose())\n",
    "        else:\n",
    "            contours = ax.contour(X, Y, vol[:,:,slice_num])\n",
    "        ax.set_title(f\"{['X', 'Y', 'Z'][axis]} slice {slice_num}\")\n",
    "        # set the aspect ratio\n",
    "        ratio = vol.shape[idx1]/vol.shape[idx0]\n",
    "        x_left, x_right = ax.get_xlim()\n",
    "        y_low, y_high = ax.get_ylim()\n",
    "        ax.set_aspect(abs((x_right - x_left)/(y_low - y_high))*ratio)\n",
    "    return func"
   ]
  },
  {
   "cell_type": "code",
   "execution_count": null,
   "id": "ff263f11-8a08-4b8f-832c-fb896d175e61",
   "metadata": {},
   "outputs": [],
   "source": [
    "draw_slice_x = create_draw_slice(colin_icbm, 0)\n",
    "draw_slice_y = create_draw_slice(colin_icbm, 1)\n",
    "draw_slice_z = create_draw_slice(colin_icbm, 2)"
   ]
  },
  {
   "cell_type": "code",
   "execution_count": null,
   "id": "4d8fef80-360a-4260-a775-b2c936c7a92b",
   "metadata": {},
   "outputs": [],
   "source": [
    "draw_slice_x(50)"
   ]
  },
  {
   "cell_type": "code",
   "execution_count": null,
   "id": "16adc20c-5aa0-46d0-ba8a-f5f98108de66",
   "metadata": {},
   "outputs": [],
   "source": [
    "draw_slice_y(50)"
   ]
  },
  {
   "cell_type": "code",
   "execution_count": null,
   "id": "62a088d5-9148-4fa7-8b52-3e47e5831881",
   "metadata": {},
   "outputs": [],
   "source": [
    "draw_slice_z(50)"
   ]
  },
  {
   "cell_type": "code",
   "execution_count": null,
   "id": "0680dc9b-de6b-43dc-8b1c-bafbc8168324",
   "metadata": {},
   "outputs": [],
   "source": [
    "widgets.interact(draw_slice_z, slice_num=widgets.IntSlider(value=50, min=0, max=150))"
   ]
  },
  {
   "cell_type": "code",
   "execution_count": null,
   "id": "d53784a0-ca43-47ec-9964-23d67ce8728d",
   "metadata": {},
   "outputs": [],
   "source": [
    "widgets.interact(create_draw_slice(colin_icbm, 0), slice_num=widgets.IntSlider(value=50, min=0, max=colin_icbm.shape[0]-1))\n",
    "widgets.interact(create_draw_slice(colin_icbm, 1), slice_num=widgets.IntSlider(value=50, min=0, max=colin_icbm.shape[1]-1))\n",
    "widgets.interact(create_draw_slice(colin_icbm, 2), slice_num=widgets.IntSlider(value=50, min=0, max=colin_icbm.shape[2]-1))\n",
    "\n"
   ]
  }
 ],
 "metadata": {
  "kernelspec": {
   "display_name": "Python (VisClassEnv)",
   "language": "python",
   "name": "visclassenv"
  },
  "language_info": {
   "codemirror_mode": {
    "name": "ipython",
    "version": 3
   },
   "file_extension": ".py",
   "mimetype": "text/x-python",
   "name": "python",
   "nbconvert_exporter": "python",
   "pygments_lexer": "ipython3",
   "version": "3.8.12"
  }
 },
 "nbformat": 4,
 "nbformat_minor": 5
}
