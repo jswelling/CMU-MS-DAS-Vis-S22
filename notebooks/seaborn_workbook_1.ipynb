{
 "cells": [
  {
   "cell_type": "code",
   "execution_count": null,
   "id": "9c09ca9f",
   "metadata": {},
   "outputs": [],
   "source": [
    "%matplotlib notebook\n",
    "#%matplotlib qt\n",
    "#%matplotlib widget\n",
    "#%matplotlib notebook\n",
    "#%matplotlib inline\n",
    "import pandas as pd\n",
    "import matplotlib.pyplot as plt\n",
    "import seaborn as sns\n",
    "from mpl_toolkits.mplot3d import Axes3D"
   ]
  },
  {
   "cell_type": "code",
   "execution_count": null,
   "id": "de563294",
   "metadata": {},
   "outputs": [],
   "source": [
    "anscombes_df = pd.read_csv('/home/welling/git/CMU-MS-DAS-Vis-S22/data/anscombes_quartet.csv')"
   ]
  },
  {
   "cell_type": "code",
   "execution_count": null,
   "id": "77540af6",
   "metadata": {
    "tags": []
   },
   "outputs": [],
   "source": [
    "anscombes_df"
   ]
  },
  {
   "cell_type": "code",
   "execution_count": null,
   "id": "bf5b9477",
   "metadata": {},
   "outputs": [],
   "source": [
    "sns.set_theme()"
   ]
  },
  {
   "cell_type": "code",
   "execution_count": null,
   "id": "0c4f1771",
   "metadata": {},
   "outputs": [],
   "source": [
    "sns.lmplot(data=anscombes_df,\n",
    "           x='x', y='y',\n",
    "           col='dataset')"
   ]
  },
  {
   "cell_type": "code",
   "execution_count": null,
   "id": "e76b2cea",
   "metadata": {},
   "outputs": [],
   "source": [
    "# Load an example dataset\n",
    "tips = sns.load_dataset(\"tips\")"
   ]
  },
  {
   "cell_type": "code",
   "execution_count": null,
   "id": "61420c3b",
   "metadata": {},
   "outputs": [],
   "source": [
    "print(len(tips))\n",
    "display(tips.head())"
   ]
  },
  {
   "cell_type": "code",
   "execution_count": null,
   "id": "0b1ed6d7",
   "metadata": {},
   "outputs": [],
   "source": [
    "diamonds = sns.load_dataset(\"diamonds\")"
   ]
  },
  {
   "cell_type": "code",
   "execution_count": null,
   "id": "12bbf9e9",
   "metadata": {},
   "outputs": [],
   "source": [
    "print(len(diamonds))\n",
    "display(diamonds.head())"
   ]
  },
  {
   "cell_type": "code",
   "execution_count": null,
   "id": "08da0529",
   "metadata": {},
   "outputs": [],
   "source": [
    "# Create a visualization\n",
    "sns.relplot(\n",
    "    data=tips,\n",
    "    x=\"total_bill\", y=\"tip\", col=\"time\",\n",
    "    hue=\"smoker\", style=\"smoker\", size=\"size\",\n",
    ")"
   ]
  },
  {
   "cell_type": "code",
   "execution_count": null,
   "id": "094b9592",
   "metadata": {},
   "outputs": [],
   "source": [
    "fig = plt.figure()\n",
    "ax = fig.add_subplot(111, projection = '3d')\n",
    "\n",
    "x = diamonds['carat']\n",
    "y = diamonds['depth']\n",
    "z = diamonds['table']\n",
    "\n",
    "ax.set_xlabel(\"Carat\")\n",
    "ax.set_ylabel(\"Depth\")\n",
    "ax.set_zlabel(\"Table\")\n",
    "\n",
    "ax.scatter(x, y, z)\n",
    "\n",
    "plt.show()"
   ]
  },
  {
   "cell_type": "code",
   "execution_count": null,
   "id": "1e8a2e41",
   "metadata": {},
   "outputs": [],
   "source": []
  }
 ],
 "metadata": {
  "kernelspec": {
   "display_name": "Python (VisClassEnv)",
   "language": "python",
   "name": "visclassenv"
  },
  "language_info": {
   "codemirror_mode": {
    "name": "ipython",
    "version": 3
   },
   "file_extension": ".py",
   "mimetype": "text/x-python",
   "name": "python",
   "nbconvert_exporter": "python",
   "pygments_lexer": "ipython3",
   "version": "3.8.12"
  }
 },
 "nbformat": 4,
 "nbformat_minor": 5
}
