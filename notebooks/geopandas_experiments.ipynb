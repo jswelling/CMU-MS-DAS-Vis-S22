{
 "cells": [
  {
   "cell_type": "code",
   "execution_count": 1,
   "id": "ba3f2819",
   "metadata": {},
   "outputs": [],
   "source": [
    "%matplotlib qt\n",
    "import matplotlib.pyplot as plt\n",
    "import pandas as pd\n",
    "import geopandas as gpd\n",
    "from pyproj import CRS"
   ]
  },
  {
   "cell_type": "code",
   "execution_count": 2,
   "id": "1ca861f1",
   "metadata": {},
   "outputs": [],
   "source": [
    "gdf = gpd.read_file('/home/welling/geo/USA/all/tl_2021_us_county.shp')"
   ]
  },
  {
   "cell_type": "code",
   "execution_count": 3,
   "id": "0277a662",
   "metadata": {},
   "outputs": [
    {
     "data": {
      "text/plain": [
       "Index(['STATEFP', 'COUNTYFP', 'COUNTYNS', 'GEOID', 'NAME', 'NAMELSAD', 'LSAD',\n",
       "       'CLASSFP', 'MTFCC', 'CSAFP', 'CBSAFP', 'METDIVFP', 'FUNCSTAT', 'ALAND',\n",
       "       'AWATER', 'INTPTLAT', 'INTPTLON', 'geometry'],\n",
       "      dtype='object')"
      ]
     },
     "execution_count": 3,
     "metadata": {},
     "output_type": "execute_result"
    }
   ],
   "source": [
    "gdf.columns"
   ]
  },
  {
   "cell_type": "code",
   "execution_count": 4,
   "id": "0e3254ff",
   "metadata": {},
   "outputs": [],
   "source": [
    "gdf = gdf[gdf.STATEFP=='06']  # select CA"
   ]
  },
  {
   "cell_type": "code",
   "execution_count": 5,
   "id": "a9c216e0",
   "metadata": {},
   "outputs": [
    {
     "data": {
      "text/html": [
       "<div>\n",
       "<style scoped>\n",
       "    .dataframe tbody tr th:only-of-type {\n",
       "        vertical-align: middle;\n",
       "    }\n",
       "\n",
       "    .dataframe tbody tr th {\n",
       "        vertical-align: top;\n",
       "    }\n",
       "\n",
       "    .dataframe thead th {\n",
       "        text-align: right;\n",
       "    }\n",
       "</style>\n",
       "<table border=\"1\" class=\"dataframe\">\n",
       "  <thead>\n",
       "    <tr style=\"text-align: right;\">\n",
       "      <th></th>\n",
       "      <th>STATEFP</th>\n",
       "      <th>COUNTYFP</th>\n",
       "      <th>COUNTYNS</th>\n",
       "      <th>GEOID</th>\n",
       "      <th>NAME</th>\n",
       "      <th>NAMELSAD</th>\n",
       "      <th>LSAD</th>\n",
       "      <th>CLASSFP</th>\n",
       "      <th>MTFCC</th>\n",
       "      <th>CSAFP</th>\n",
       "      <th>CBSAFP</th>\n",
       "      <th>METDIVFP</th>\n",
       "      <th>FUNCSTAT</th>\n",
       "      <th>ALAND</th>\n",
       "      <th>AWATER</th>\n",
       "      <th>INTPTLAT</th>\n",
       "      <th>INTPTLON</th>\n",
       "      <th>geometry</th>\n",
       "    </tr>\n",
       "  </thead>\n",
       "  <tbody>\n",
       "    <tr>\n",
       "      <th>8</th>\n",
       "      <td>06</td>\n",
       "      <td>091</td>\n",
       "      <td>00277310</td>\n",
       "      <td>06091</td>\n",
       "      <td>Sierra</td>\n",
       "      <td>Sierra County</td>\n",
       "      <td>06</td>\n",
       "      <td>H1</td>\n",
       "      <td>G4020</td>\n",
       "      <td>None</td>\n",
       "      <td>None</td>\n",
       "      <td>None</td>\n",
       "      <td>A</td>\n",
       "      <td>2468694582</td>\n",
       "      <td>23299110</td>\n",
       "      <td>+39.5769252</td>\n",
       "      <td>-120.5219926</td>\n",
       "      <td>POLYGON ((-120.55587 39.50874, -120.55614 39.5...</td>\n",
       "    </tr>\n",
       "    <tr>\n",
       "      <th>325</th>\n",
       "      <td>06</td>\n",
       "      <td>067</td>\n",
       "      <td>00277298</td>\n",
       "      <td>06067</td>\n",
       "      <td>Sacramento</td>\n",
       "      <td>Sacramento County</td>\n",
       "      <td>06</td>\n",
       "      <td>H1</td>\n",
       "      <td>G4020</td>\n",
       "      <td>472</td>\n",
       "      <td>40900</td>\n",
       "      <td>None</td>\n",
       "      <td>A</td>\n",
       "      <td>2500045887</td>\n",
       "      <td>75340560</td>\n",
       "      <td>+38.4501363</td>\n",
       "      <td>-121.3443291</td>\n",
       "      <td>POLYGON ((-121.43991 38.25553, -121.44002 38.2...</td>\n",
       "    </tr>\n",
       "    <tr>\n",
       "      <th>329</th>\n",
       "      <td>06</td>\n",
       "      <td>083</td>\n",
       "      <td>00277306</td>\n",
       "      <td>06083</td>\n",
       "      <td>Santa Barbara</td>\n",
       "      <td>Santa Barbara County</td>\n",
       "      <td>06</td>\n",
       "      <td>H1</td>\n",
       "      <td>G4020</td>\n",
       "      <td>None</td>\n",
       "      <td>42200</td>\n",
       "      <td>None</td>\n",
       "      <td>A</td>\n",
       "      <td>7080860229</td>\n",
       "      <td>2729213507</td>\n",
       "      <td>+34.5366774</td>\n",
       "      <td>-120.0383645</td>\n",
       "      <td>MULTIPOLYGON (((-120.58226 34.10752, -120.5790...</td>\n",
       "    </tr>\n",
       "    <tr>\n",
       "      <th>346</th>\n",
       "      <td>06</td>\n",
       "      <td>009</td>\n",
       "      <td>01675885</td>\n",
       "      <td>06009</td>\n",
       "      <td>Calaveras</td>\n",
       "      <td>Calaveras County</td>\n",
       "      <td>06</td>\n",
       "      <td>H1</td>\n",
       "      <td>G4020</td>\n",
       "      <td>None</td>\n",
       "      <td>None</td>\n",
       "      <td>None</td>\n",
       "      <td>A</td>\n",
       "      <td>2641837359</td>\n",
       "      <td>43789489</td>\n",
       "      <td>+38.1910682</td>\n",
       "      <td>-120.5541065</td>\n",
       "      <td>POLYGON ((-120.37620 38.14265, -120.37616 38.1...</td>\n",
       "    </tr>\n",
       "    <tr>\n",
       "      <th>394</th>\n",
       "      <td>06</td>\n",
       "      <td>111</td>\n",
       "      <td>00277320</td>\n",
       "      <td>06111</td>\n",
       "      <td>Ventura</td>\n",
       "      <td>Ventura County</td>\n",
       "      <td>06</td>\n",
       "      <td>H1</td>\n",
       "      <td>G4020</td>\n",
       "      <td>348</td>\n",
       "      <td>37100</td>\n",
       "      <td>None</td>\n",
       "      <td>A</td>\n",
       "      <td>4767622161</td>\n",
       "      <td>947345735</td>\n",
       "      <td>+34.3587477</td>\n",
       "      <td>-119.1331453</td>\n",
       "      <td>MULTIPOLYGON (((-119.63607 33.28071, -119.6347...</td>\n",
       "    </tr>\n",
       "  </tbody>\n",
       "</table>\n",
       "</div>"
      ],
      "text/plain": [
       "    STATEFP COUNTYFP  COUNTYNS  GEOID           NAME              NAMELSAD  \\\n",
       "8        06      091  00277310  06091         Sierra         Sierra County   \n",
       "325      06      067  00277298  06067     Sacramento     Sacramento County   \n",
       "329      06      083  00277306  06083  Santa Barbara  Santa Barbara County   \n",
       "346      06      009  01675885  06009      Calaveras      Calaveras County   \n",
       "394      06      111  00277320  06111        Ventura        Ventura County   \n",
       "\n",
       "    LSAD CLASSFP  MTFCC CSAFP CBSAFP METDIVFP FUNCSTAT       ALAND  \\\n",
       "8     06      H1  G4020  None   None     None        A  2468694582   \n",
       "325   06      H1  G4020   472  40900     None        A  2500045887   \n",
       "329   06      H1  G4020  None  42200     None        A  7080860229   \n",
       "346   06      H1  G4020  None   None     None        A  2641837359   \n",
       "394   06      H1  G4020   348  37100     None        A  4767622161   \n",
       "\n",
       "         AWATER     INTPTLAT      INTPTLON  \\\n",
       "8      23299110  +39.5769252  -120.5219926   \n",
       "325    75340560  +38.4501363  -121.3443291   \n",
       "329  2729213507  +34.5366774  -120.0383645   \n",
       "346    43789489  +38.1910682  -120.5541065   \n",
       "394   947345735  +34.3587477  -119.1331453   \n",
       "\n",
       "                                              geometry  \n",
       "8    POLYGON ((-120.55587 39.50874, -120.55614 39.5...  \n",
       "325  POLYGON ((-121.43991 38.25553, -121.44002 38.2...  \n",
       "329  MULTIPOLYGON (((-120.58226 34.10752, -120.5790...  \n",
       "346  POLYGON ((-120.37620 38.14265, -120.37616 38.1...  \n",
       "394  MULTIPOLYGON (((-119.63607 33.28071, -119.6347...  "
      ]
     },
     "execution_count": 5,
     "metadata": {},
     "output_type": "execute_result"
    }
   ],
   "source": [
    "gdf.head()"
   ]
  },
  {
   "cell_type": "code",
   "execution_count": 6,
   "id": "433392b7",
   "metadata": {},
   "outputs": [],
   "source": [
    "def add_area_and_label_coords(some_gdf):\n",
    "    some_gdf['area'] = some_gdf.area\n",
    "    some_gdf['coords'] = some_gdf['geometry'].apply(lambda x: x.representative_point().coords[:])\n",
    "    some_gdf['coords'] = [coords[0] for coords in some_gdf['coords']]"
   ]
  },
  {
   "cell_type": "code",
   "execution_count": 7,
   "id": "4fe2f27f",
   "metadata": {},
   "outputs": [],
   "source": [
    "def plot_with_labels(some_gdf, ax, name_col=None, field_col=None):\n",
    "    if field_col is None:\n",
    "        some_gdf.plot(ax=ax)\n",
    "    else:\n",
    "        some_gdf.plot(column=field_col, ax=ax, legend=True)\n",
    "    if name_col is not None:\n",
    "        for idx, row in some_gdf.iterrows():\n",
    "            ax.annotate(text=row[name_col], xy=row['coords'],\n",
    "                         horizontalalignment='center')"
   ]
  },
  {
   "cell_type": "code",
   "execution_count": 8,
   "id": "fd1adc7e",
   "metadata": {},
   "outputs": [],
   "source": [
    "def calc_overall_centroid(some_gdf):\n",
    "    \"\"\"\n",
    "    Use the 'coords' and 'area' columns to estimate an overall centroid\n",
    "    \"\"\"\n",
    "    sum_x = 0.0\n",
    "    sum_y = 0.0\n",
    "    sum_area = 0.0\n",
    "    for idx, row in some_gdf.iterrows():\n",
    "        coord_x, coord_y = row['coords']\n",
    "        sum_x += coord_x * row['area']\n",
    "        sum_y += coord_y * row['area']\n",
    "        sum_area += row['area']\n",
    "    centroid_x = sum_x / sum_area\n",
    "    centroid_y = sum_y / sum_area\n",
    "    return centroid_x, centroid_y"
   ]
  },
  {
   "cell_type": "code",
   "execution_count": 9,
   "id": "305a52c8",
   "metadata": {},
   "outputs": [
    {
     "name": "stdout",
     "output_type": "stream",
     "text": [
      "-119.66034006773158 37.21896331381407\n"
     ]
    },
    {
     "name": "stderr",
     "output_type": "stream",
     "text": [
      "/tmp/ipykernel_19992/4182452352.py:2: UserWarning: Geometry is in a geographic CRS. Results from 'area' are likely incorrect. Use 'GeoSeries.to_crs()' to re-project geometries to a projected CRS before this operation.\n",
      "\n",
      "  some_gdf['area'] = some_gdf.area\n"
     ]
    }
   ],
   "source": [
    "add_area_and_label_coords(gdf)\n",
    "centroid_x, centroid_y = calc_overall_centroid(gdf)\n",
    "print(centroid_x, centroid_y)"
   ]
  },
  {
   "cell_type": "code",
   "execution_count": 10,
   "id": "e02664cd",
   "metadata": {},
   "outputs": [],
   "source": [
    "fig, axes = plt.subplots(1,2)\n",
    "plot_with_labels(gdf, field_col='area', name_col='NAME', ax=axes[0])\n",
    "plot_with_labels(gdf, ax=axes[1])"
   ]
  },
  {
   "cell_type": "code",
   "execution_count": 11,
   "id": "93db29d4",
   "metadata": {},
   "outputs": [
    {
     "data": {
      "text/plain": [
       "<Geographic 2D CRS: EPSG:4269>\n",
       "Name: NAD83\n",
       "Axis Info [ellipsoidal]:\n",
       "- Lat[north]: Geodetic latitude (degree)\n",
       "- Lon[east]: Geodetic longitude (degree)\n",
       "Area of Use:\n",
       "- name: North America - onshore and offshore: Canada - Alberta; British Columbia; Manitoba; New Brunswick; Newfoundland and Labrador; Northwest Territories; Nova Scotia; Nunavut; Ontario; Prince Edward Island; Quebec; Saskatchewan; Yukon. Puerto Rico. United States (USA) - Alabama; Alaska; Arizona; Arkansas; California; Colorado; Connecticut; Delaware; Florida; Georgia; Hawaii; Idaho; Illinois; Indiana; Iowa; Kansas; Kentucky; Louisiana; Maine; Maryland; Massachusetts; Michigan; Minnesota; Mississippi; Missouri; Montana; Nebraska; Nevada; New Hampshire; New Jersey; New Mexico; New York; North Carolina; North Dakota; Ohio; Oklahoma; Oregon; Pennsylvania; Rhode Island; South Carolina; South Dakota; Tennessee; Texas; Utah; Vermont; Virginia; Washington; West Virginia; Wisconsin; Wyoming. US Virgin Islands. British Virgin Islands.\n",
       "- bounds: (167.65, 14.92, -47.74, 86.46)\n",
       "Datum: North American Datum 1983\n",
       "- Ellipsoid: GRS 1980\n",
       "- Prime Meridian: Greenwich"
      ]
     },
     "execution_count": 11,
     "metadata": {},
     "output_type": "execute_result"
    }
   ],
   "source": [
    "gdf.crs\n"
   ]
  },
  {
   "cell_type": "markdown",
   "id": "114b5984",
   "metadata": {},
   "source": [
    "# Orthographic projection centered on our centroid\n",
    "See [Orthographic projection with pyproj for penguin tracking in Antarctica](https://towardsdatascience.com/orthographic-projection-with-pyproj-for-penguin-tracking-in-antarctica-18cd2bf2d570) for the trick."
   ]
  },
  {
   "cell_type": "code",
   "execution_count": 12,
   "id": "88352aa0",
   "metadata": {},
   "outputs": [],
   "source": [
    "lat = centroid_y\n",
    "lon = centroid_x\n",
    "ortho = CRS.from_proj4(\"+proj=ortho +lat_0={} +lon_0={} +x_0=0 +y_0=0 +a=6370997 +b=6370997 +units=m +no_defs\".format(lat, lon))"
   ]
  },
  {
   "cell_type": "code",
   "execution_count": 13,
   "id": "cd346a3d",
   "metadata": {},
   "outputs": [
    {
     "data": {
      "text/plain": [
       "<Derived Projected CRS: +proj=ortho +lat_0=37.21896331381407 +lon_0=-119.6 ...>\n",
       "Name: unknown\n",
       "Axis Info [cartesian]:\n",
       "- E[east]: Easting (metre)\n",
       "- N[north]: Northing (metre)\n",
       "Area of Use:\n",
       "- undefined\n",
       "Coordinate Operation:\n",
       "- name: unknown\n",
       "- method: Orthographic\n",
       "Datum: unknown\n",
       "- Ellipsoid: Normal Sphere (r=6370997)\n",
       "- Prime Meridian: Greenwich"
      ]
     },
     "execution_count": 13,
     "metadata": {},
     "output_type": "execute_result"
    }
   ],
   "source": [
    "ortho_gdf = gdf.to_crs(ortho)\n",
    "ortho_gdf.crs"
   ]
  },
  {
   "cell_type": "code",
   "execution_count": 14,
   "id": "2e365c57",
   "metadata": {},
   "outputs": [
    {
     "name": "stdout",
     "output_type": "stream",
     "text": [
      "+proj=utm +zone=10 +north +type=crs\n"
     ]
    }
   ],
   "source": [
    "utm_proj = CRS.from_proj4(\"+proj=utm +zone=10 +north\")\n",
    "print(utm_proj)"
   ]
  },
  {
   "cell_type": "code",
   "execution_count": 15,
   "id": "64eca358",
   "metadata": {},
   "outputs": [
    {
     "data": {
      "text/plain": [
       "<Derived Projected CRS: +proj=utm +zone=10 +north +type=crs>\n",
       "Name: unknown\n",
       "Axis Info [cartesian]:\n",
       "- E[east]: Easting (metre)\n",
       "- N[north]: Northing (metre)\n",
       "Area of Use:\n",
       "- undefined\n",
       "Coordinate Operation:\n",
       "- name: UTM zone 10N\n",
       "- method: Transverse Mercator\n",
       "Datum: World Geodetic System 1984\n",
       "- Ellipsoid: WGS 84\n",
       "- Prime Meridian: Greenwich"
      ]
     },
     "execution_count": 15,
     "metadata": {},
     "output_type": "execute_result"
    }
   ],
   "source": [
    "utm_gdf = gdf.to_crs(utm_proj)\n",
    "utm_gdf.crs"
   ]
  },
  {
   "cell_type": "code",
   "execution_count": 16,
   "id": "320f766c",
   "metadata": {},
   "outputs": [
    {
     "data": {
      "text/plain": [
       "<AxesSubplot:>"
      ]
     },
     "execution_count": 16,
     "metadata": {},
     "output_type": "execute_result"
    }
   ],
   "source": [
    "utm_gdf.plot()"
   ]
  },
  {
   "cell_type": "code",
   "execution_count": 17,
   "id": "d432cb03",
   "metadata": {},
   "outputs": [],
   "source": [
    "fig, axes = plt.subplots(1,2)\n",
    "plot_with_labels(gdf, ax=axes[0])\n",
    "plot_with_labels(ortho_gdf, ax=axes[1])"
   ]
  },
  {
   "cell_type": "code",
   "execution_count": 18,
   "id": "57516a4f",
   "metadata": {},
   "outputs": [],
   "source": [
    "new_gdf = gdf.to_crs(\"EPSG:32633\")"
   ]
  },
  {
   "cell_type": "code",
   "execution_count": 19,
   "id": "020bd68c",
   "metadata": {
    "scrolled": false
   },
   "outputs": [
    {
     "data": {
      "text/plain": [
       "<Derived Projected CRS: EPSG:32633>\n",
       "Name: WGS 84 / UTM zone 33N\n",
       "Axis Info [cartesian]:\n",
       "- E[east]: Easting (metre)\n",
       "- N[north]: Northing (metre)\n",
       "Area of Use:\n",
       "- name: Between 12°E and 18°E, northern hemisphere between equator and 84°N, onshore and offshore. Austria. Bosnia and Herzegovina. Cameroon. Central African Republic. Chad. Congo. Croatia. Czechia. Democratic Republic of the Congo (Zaire). Gabon. Germany. Hungary. Italy. Libya. Malta. Niger. Nigeria. Norway. Poland. San Marino. Slovakia. Slovenia. Svalbard. Sweden. Vatican City State.\n",
       "- bounds: (12.0, 0.0, 18.0, 84.0)\n",
       "Coordinate Operation:\n",
       "- name: UTM zone 33N\n",
       "- method: Transverse Mercator\n",
       "Datum: World Geodetic System 1984 ensemble\n",
       "- Ellipsoid: WGS 84\n",
       "- Prime Meridian: Greenwich"
      ]
     },
     "execution_count": 19,
     "metadata": {},
     "output_type": "execute_result"
    }
   ],
   "source": [
    "new_gdf.crs"
   ]
  },
  {
   "cell_type": "code",
   "execution_count": 20,
   "id": "7b9a2a2f",
   "metadata": {},
   "outputs": [],
   "source": [
    "fig, axes = plt.subplots(1,2)\n",
    "plot_with_labels(gdf, ax=axes[0])\n",
    "plot_with_labels(new_gdf, ax=axes[1])"
   ]
  },
  {
   "cell_type": "code",
   "execution_count": 21,
   "id": "26903387",
   "metadata": {},
   "outputs": [
    {
     "data": {
      "text/plain": [
       "Index(['STATEFP', 'COUNTYFP', 'COUNTYNS', 'GEOID', 'NAME', 'NAMELSAD', 'LSAD',\n",
       "       'CLASSFP', 'MTFCC', 'CSAFP', 'CBSAFP', 'METDIVFP', 'FUNCSTAT', 'ALAND',\n",
       "       'AWATER', 'INTPTLAT', 'INTPTLON', 'geometry'],\n",
       "      dtype='object')"
      ]
     },
     "metadata": {},
     "output_type": "display_data"
    },
    {
     "name": "stderr",
     "output_type": "stream",
     "text": [
      "/tmp/ipykernel_19992/4182452352.py:2: UserWarning: Geometry is in a geographic CRS. Results from 'area' are likely incorrect. Use 'GeoSeries.to_crs()' to re-project geometries to a projected CRS before this operation.\n",
      "\n",
      "  some_gdf['area'] = some_gdf.area\n"
     ]
    }
   ],
   "source": [
    "gdf = gpd.read_file('/home/welling/geo/USA/all/tl_2021_us_county.shp')\n",
    "display(gdf.columns)\n",
    "gdf = gdf[gdf.STATEFP=='42']  # select PA\n",
    "add_area_and_label_coords(gdf)"
   ]
  },
  {
   "cell_type": "code",
   "execution_count": 22,
   "id": "ae9033ce",
   "metadata": {},
   "outputs": [
    {
     "data": {
      "text/html": [
       "<div>\n",
       "<style scoped>\n",
       "    .dataframe tbody tr th:only-of-type {\n",
       "        vertical-align: middle;\n",
       "    }\n",
       "\n",
       "    .dataframe tbody tr th {\n",
       "        vertical-align: top;\n",
       "    }\n",
       "\n",
       "    .dataframe thead th {\n",
       "        text-align: right;\n",
       "    }\n",
       "</style>\n",
       "<table border=\"1\" class=\"dataframe\">\n",
       "  <thead>\n",
       "    <tr style=\"text-align: right;\">\n",
       "      <th></th>\n",
       "      <th>STATEFP</th>\n",
       "      <th>COUNTYFP</th>\n",
       "      <th>COUNTYNS</th>\n",
       "      <th>GEOID</th>\n",
       "      <th>NAME</th>\n",
       "      <th>NAMELSAD</th>\n",
       "      <th>LSAD</th>\n",
       "      <th>CLASSFP</th>\n",
       "      <th>MTFCC</th>\n",
       "      <th>CSAFP</th>\n",
       "      <th>...</th>\n",
       "      <th>METDIVFP</th>\n",
       "      <th>FUNCSTAT</th>\n",
       "      <th>ALAND</th>\n",
       "      <th>AWATER</th>\n",
       "      <th>INTPTLAT</th>\n",
       "      <th>INTPTLON</th>\n",
       "      <th>geometry</th>\n",
       "      <th>area</th>\n",
       "      <th>coords</th>\n",
       "      <th>fips_string</th>\n",
       "    </tr>\n",
       "  </thead>\n",
       "  <tbody>\n",
       "    <tr>\n",
       "      <th>19</th>\n",
       "      <td>42</td>\n",
       "      <td>007</td>\n",
       "      <td>01214112</td>\n",
       "      <td>42007</td>\n",
       "      <td>Beaver</td>\n",
       "      <td>Beaver County</td>\n",
       "      <td>06</td>\n",
       "      <td>H1</td>\n",
       "      <td>G4020</td>\n",
       "      <td>430</td>\n",
       "      <td>...</td>\n",
       "      <td>None</td>\n",
       "      <td>A</td>\n",
       "      <td>1125854819</td>\n",
       "      <td>24162295</td>\n",
       "      <td>+40.6841401</td>\n",
       "      <td>-080.3507209</td>\n",
       "      <td>POLYGON ((-80.27803 40.53674, -80.29151 40.527...</td>\n",
       "      <td>0.122502</td>\n",
       "      <td>(-80.33356401630434, 40.6665865)</td>\n",
       "      <td>42007</td>\n",
       "    </tr>\n",
       "    <tr>\n",
       "      <th>47</th>\n",
       "      <td>42</td>\n",
       "      <td>053</td>\n",
       "      <td>01213669</td>\n",
       "      <td>42053</td>\n",
       "      <td>Forest</td>\n",
       "      <td>Forest County</td>\n",
       "      <td>06</td>\n",
       "      <td>H1</td>\n",
       "      <td>G4020</td>\n",
       "      <td>None</td>\n",
       "      <td>...</td>\n",
       "      <td>None</td>\n",
       "      <td>A</td>\n",
       "      <td>1106595595</td>\n",
       "      <td>8369675</td>\n",
       "      <td>+41.5133040</td>\n",
       "      <td>-079.2497050</td>\n",
       "      <td>POLYGON ((-78.95860 41.52549, -78.95861 41.525...</td>\n",
       "      <td>0.120257</td>\n",
       "      <td>(-79.23552915941254, 41.475388499999994)</td>\n",
       "      <td>42053</td>\n",
       "    </tr>\n",
       "    <tr>\n",
       "      <th>95</th>\n",
       "      <td>42</td>\n",
       "      <td>117</td>\n",
       "      <td>01209189</td>\n",
       "      <td>42117</td>\n",
       "      <td>Tioga</td>\n",
       "      <td>Tioga County</td>\n",
       "      <td>06</td>\n",
       "      <td>H1</td>\n",
       "      <td>G4020</td>\n",
       "      <td>None</td>\n",
       "      <td>...</td>\n",
       "      <td>None</td>\n",
       "      <td>A</td>\n",
       "      <td>2936765818</td>\n",
       "      <td>8279717</td>\n",
       "      <td>+41.7668593</td>\n",
       "      <td>-077.2572881</td>\n",
       "      <td>POLYGON ((-77.21159 41.54545, -77.21177 41.545...</td>\n",
       "      <td>0.318905</td>\n",
       "      <td>(-77.25034505294256, 41.771712)</td>\n",
       "      <td>42117</td>\n",
       "    </tr>\n",
       "    <tr>\n",
       "      <th>108</th>\n",
       "      <td>42</td>\n",
       "      <td>043</td>\n",
       "      <td>01213667</td>\n",
       "      <td>42043</td>\n",
       "      <td>Dauphin</td>\n",
       "      <td>Dauphin County</td>\n",
       "      <td>06</td>\n",
       "      <td>H1</td>\n",
       "      <td>G4020</td>\n",
       "      <td>276</td>\n",
       "      <td>...</td>\n",
       "      <td>None</td>\n",
       "      <td>A</td>\n",
       "      <td>1359407363</td>\n",
       "      <td>86209037</td>\n",
       "      <td>+40.4125646</td>\n",
       "      <td>-076.7926343</td>\n",
       "      <td>POLYGON ((-76.59217 40.25428, -76.59214 40.254...</td>\n",
       "      <td>0.153387</td>\n",
       "      <td>(-76.83720556170019, 40.389572)</td>\n",
       "      <td>42043</td>\n",
       "    </tr>\n",
       "    <tr>\n",
       "      <th>165</th>\n",
       "      <td>42</td>\n",
       "      <td>127</td>\n",
       "      <td>01213692</td>\n",
       "      <td>42127</td>\n",
       "      <td>Wayne</td>\n",
       "      <td>Wayne County</td>\n",
       "      <td>06</td>\n",
       "      <td>H1</td>\n",
       "      <td>G4020</td>\n",
       "      <td>None</td>\n",
       "      <td>...</td>\n",
       "      <td>None</td>\n",
       "      <td>A</td>\n",
       "      <td>1879734030</td>\n",
       "      <td>64785676</td>\n",
       "      <td>+41.6466021</td>\n",
       "      <td>-075.2924932</td>\n",
       "      <td>POLYGON ((-75.29834 41.36740, -75.29849 41.367...</td>\n",
       "      <td>0.210166</td>\n",
       "      <td>(-75.26130220558844, 41.616035999999994)</td>\n",
       "      <td>42127</td>\n",
       "    </tr>\n",
       "  </tbody>\n",
       "</table>\n",
       "<p>5 rows × 21 columns</p>\n",
       "</div>"
      ],
      "text/plain": [
       "    STATEFP COUNTYFP  COUNTYNS  GEOID     NAME        NAMELSAD LSAD CLASSFP  \\\n",
       "19       42      007  01214112  42007   Beaver   Beaver County   06      H1   \n",
       "47       42      053  01213669  42053   Forest   Forest County   06      H1   \n",
       "95       42      117  01209189  42117    Tioga    Tioga County   06      H1   \n",
       "108      42      043  01213667  42043  Dauphin  Dauphin County   06      H1   \n",
       "165      42      127  01213692  42127    Wayne    Wayne County   06      H1   \n",
       "\n",
       "     MTFCC CSAFP  ... METDIVFP FUNCSTAT       ALAND    AWATER     INTPTLAT  \\\n",
       "19   G4020   430  ...     None        A  1125854819  24162295  +40.6841401   \n",
       "47   G4020  None  ...     None        A  1106595595   8369675  +41.5133040   \n",
       "95   G4020  None  ...     None        A  2936765818   8279717  +41.7668593   \n",
       "108  G4020   276  ...     None        A  1359407363  86209037  +40.4125646   \n",
       "165  G4020  None  ...     None        A  1879734030  64785676  +41.6466021   \n",
       "\n",
       "         INTPTLON                                           geometry  \\\n",
       "19   -080.3507209  POLYGON ((-80.27803 40.53674, -80.29151 40.527...   \n",
       "47   -079.2497050  POLYGON ((-78.95860 41.52549, -78.95861 41.525...   \n",
       "95   -077.2572881  POLYGON ((-77.21159 41.54545, -77.21177 41.545...   \n",
       "108  -076.7926343  POLYGON ((-76.59217 40.25428, -76.59214 40.254...   \n",
       "165  -075.2924932  POLYGON ((-75.29834 41.36740, -75.29849 41.367...   \n",
       "\n",
       "         area                                    coords fips_string  \n",
       "19   0.122502          (-80.33356401630434, 40.6665865)       42007  \n",
       "47   0.120257  (-79.23552915941254, 41.475388499999994)       42053  \n",
       "95   0.318905           (-77.25034505294256, 41.771712)       42117  \n",
       "108  0.153387           (-76.83720556170019, 40.389572)       42043  \n",
       "165  0.210166  (-75.26130220558844, 41.616035999999994)       42127  \n",
       "\n",
       "[5 rows x 21 columns]"
      ]
     },
     "execution_count": 22,
     "metadata": {},
     "output_type": "execute_result"
    }
   ],
   "source": [
    "def build_fips_string(row):\n",
    "    return f\"{row['STATEFP']}{row['COUNTYFP']}\"\n",
    "gdf['fips_string'] = gdf.apply(build_fips_string, axis=1)\n",
    "gdf.head()"
   ]
  },
  {
   "cell_type": "code",
   "execution_count": 23,
   "id": "90ca2770",
   "metadata": {},
   "outputs": [],
   "source": [
    "fig, axes = plt.subplots(2,1)\n",
    "plot_with_labels(gdf, name_col='NAME', ax=axes[0])\n",
    "plot_with_labels(gdf, name_col='fips_string', ax=axes[1])"
   ]
  },
  {
   "cell_type": "code",
   "execution_count": null,
   "id": "61521a7a",
   "metadata": {},
   "outputs": [],
   "source": []
  }
 ],
 "metadata": {
  "kernelspec": {
   "display_name": "Python (VisClassEnv)",
   "language": "python",
   "name": "visclassenv"
  },
  "language_info": {
   "codemirror_mode": {
    "name": "ipython",
    "version": 3
   },
   "file_extension": ".py",
   "mimetype": "text/x-python",
   "name": "python",
   "nbconvert_exporter": "python",
   "pygments_lexer": "ipython3",
   "version": "3.8.12"
  }
 },
 "nbformat": 4,
 "nbformat_minor": 5
}
